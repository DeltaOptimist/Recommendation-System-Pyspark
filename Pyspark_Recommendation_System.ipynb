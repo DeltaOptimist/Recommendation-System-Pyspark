{
  "cells": [
    {
      "cell_type": "markdown",
      "metadata": {
        "id": "_d6HwTtXl6ts"
      },
      "source": [
        "# Task I.1: Exploratory data analysis"
      ]
    },
    {
      "cell_type": "markdown",
      "metadata": {
        "id": "Bqsv9AOXl6tu"
      },
      "source": [
        "Initializing a Spark session"
      ]
    },
    {
      "cell_type": "code",
      "source": [
        "pip install pyspark"
      ],
      "metadata": {
        "colab": {
          "base_uri": "https://localhost:8080/"
        },
        "id": "jAfCNzWmmuBX",
        "outputId": "5a3d6607-4aec-4035-dc0d-a2968cdf141e"
      },
      "execution_count": 34,
      "outputs": [
        {
          "output_type": "stream",
          "name": "stdout",
          "text": [
            "Looking in indexes: https://pypi.org/simple, https://us-python.pkg.dev/colab-wheels/public/simple/\n",
            "Requirement already satisfied: pyspark in /usr/local/lib/python3.7/dist-packages (3.3.1)\n",
            "Requirement already satisfied: py4j==0.10.9.5 in /usr/local/lib/python3.7/dist-packages (from pyspark) (0.10.9.5)\n"
          ]
        }
      ]
    },
    {
      "cell_type": "code",
      "execution_count": 35,
      "metadata": {
        "id": "8M8-zx68l6tv"
      },
      "outputs": [],
      "source": [
        "import pandas as pd\n",
        "from pyspark.sql import SparkSession\n",
        "spark = SparkSession.builder.master(\"local\").appName(\"Movie_recommendation\").config(\"spark.some.config.option\",\"some-value\").getOrCreate()"
      ]
    },
    {
      "cell_type": "markdown",
      "metadata": {
        "id": "u4qH8LKal6tw"
      },
      "source": [
        "The datasets can be easily downloaded from these links: \n",
        "1. 'rating.csv': https://www.kaggle.com/rounakbanik/the-movies-dataset?select=ratings_small.csv\n",
        "2. 'movies.csv': https://www.kaggle.com/rounakbanik/the-movies-dataset?select=movies_metadata.csv\n",
        "        \n",
        "Number of rows and columns:"
      ]
    },
    {
      "cell_type": "code",
      "execution_count": 36,
      "metadata": {
        "colab": {
          "base_uri": "https://localhost:8080/"
        },
        "id": "YkIETgCKl6tx",
        "outputId": "aa423d9a-d826-4429-db87-a7d1319ded7c"
      },
      "outputs": [
        {
          "output_type": "stream",
          "name": "stdout",
          "text": [
            "Number of Columns: 26\n",
            "Number of Rows: 44925\n"
          ]
        },
        {
          "output_type": "execute_result",
          "data": {
            "text/plain": [
              "['id',\n",
              " 'userId',\n",
              " 'rating',\n",
              " 'adult',\n",
              " 'belongs_to_collection',\n",
              " 'budget',\n",
              " 'genres',\n",
              " 'homepage',\n",
              " 'imdb_id',\n",
              " 'original_language',\n",
              " 'original_title',\n",
              " 'overview',\n",
              " 'popularity',\n",
              " 'poster_path',\n",
              " 'production_companies',\n",
              " 'production_countries',\n",
              " 'release_date',\n",
              " 'revenue',\n",
              " 'runtime',\n",
              " 'spoken_languages',\n",
              " 'status',\n",
              " 'tagline',\n",
              " 'title',\n",
              " 'video',\n",
              " 'vote_average',\n",
              " 'vote_count']"
            ]
          },
          "metadata": {},
          "execution_count": 36
        }
      ],
      "source": [
        "rating = spark.read.format(\"csv\").option(\"header\",\"true\").option(\"inferSchema\", \"true\").load(r\"/content/ratings_small.csv\")\n",
        "rating = rating.drop('timestamp')\n",
        "\n",
        "movies = spark.read.format(\"csv\").option(\"header\",\"true\").option(\"inferSchema\", \"true\").load(r\"/content/movies_metadata.csv\")\n",
        "movie_data = rating.join(movies, on='id')\n",
        "\n",
        "Columns = len(movie_data.columns)\n",
        "Rows = movie_data.count()\n",
        "print('Number of Columns: {}\\nNumber of Rows: {}'.format(Columns, Rows))\n",
        "movie_data.columns"
      ]
    },
    {
      "cell_type": "markdown",
      "metadata": {
        "id": "3FA5rlNyl6ty"
      },
      "source": [
        "DATA CLEANING: Replace all the zeros in the abaove mentioned fields (except “Pregnancies”) with NaN."
      ]
    },
    {
      "cell_type": "code",
      "execution_count": 37,
      "metadata": {
        "colab": {
          "base_uri": "https://localhost:8080/"
        },
        "id": "e-Zq-oVGl6t4",
        "outputId": "1372fde6-92b2-4f0c-ea54-f091b1e62f1d"
      },
      "outputs": [
        {
          "output_type": "stream",
          "name": "stdout",
          "text": [
            "+------+------+------+-----+---------------------+--------+--------------------+--------------------+---------+-----------------+----------------+--------------------+----------+--------------------+--------------------+--------------------+------------+---------+-------+--------------------+--------+--------------------+----------------+-----+------------+----------+\n",
            "|    id|userId|rating|adult|belongs_to_collection|  budget|              genres|            homepage|  imdb_id|original_language|  original_title|            overview|popularity|         poster_path|production_companies|production_countries|release_date|  revenue|runtime|    spoken_languages|  status|             tagline|           title|video|vote_average|vote_count|\n",
            "+------+------+------+-----+---------------------+--------+--------------------+--------------------+---------+-----------------+----------------+--------------------+----------+--------------------+--------------------+--------------------+------------+---------+-------+--------------------+--------+--------------------+----------------+-----+------------+----------+\n",
            "| 949.0| 647.0|   4.0|False|                 null|60000000|[{'id': 28, 'name...|                null|tt0113277|               en|            Heat|Obsessive master ...| 17.924927|/zMyfPUelumio3tiD...|[{'name': 'Regenc...|[{'iso_3166_1': '...|  1995-12-15|187436818|  170.0|[{'iso_639_1': 'e...|Released|A Los Angeles Cri...|            Heat|False|         7.7|      1886|\n",
            "| 949.0| 564.0|   3.0|False|                 null|60000000|[{'id': 28, 'name...|                null|tt0113277|               en|            Heat|Obsessive master ...| 17.924927|/zMyfPUelumio3tiD...|[{'name': 'Regenc...|[{'iso_3166_1': '...|  1995-12-15|187436818|  170.0|[{'iso_639_1': 'e...|Released|A Los Angeles Cri...|            Heat|False|         7.7|      1886|\n",
            "| 949.0| 558.0|   4.0|False|                 null|60000000|[{'id': 28, 'name...|                null|tt0113277|               en|            Heat|Obsessive master ...| 17.924927|/zMyfPUelumio3tiD...|[{'name': 'Regenc...|[{'iso_3166_1': '...|  1995-12-15|187436818|  170.0|[{'iso_639_1': 'e...|Released|A Los Angeles Cri...|            Heat|False|         7.7|      1886|\n",
            "| 949.0| 547.0|   4.0|False|                 null|60000000|[{'id': 28, 'name...|                null|tt0113277|               en|            Heat|Obsessive master ...| 17.924927|/zMyfPUelumio3tiD...|[{'name': 'Regenc...|[{'iso_3166_1': '...|  1995-12-15|187436818|  170.0|[{'iso_639_1': 'e...|Released|A Los Angeles Cri...|            Heat|False|         7.7|      1886|\n",
            "| 949.0| 537.0|   3.0|False|                 null|60000000|[{'id': 28, 'name...|                null|tt0113277|               en|            Heat|Obsessive master ...| 17.924927|/zMyfPUelumio3tiD...|[{'name': 'Regenc...|[{'iso_3166_1': '...|  1995-12-15|187436818|  170.0|[{'iso_639_1': 'e...|Released|A Los Angeles Cri...|            Heat|False|         7.7|      1886|\n",
            "| 949.0| 509.0|   2.0|False|                 null|60000000|[{'id': 28, 'name...|                null|tt0113277|               en|            Heat|Obsessive master ...| 17.924927|/zMyfPUelumio3tiD...|[{'name': 'Regenc...|[{'iso_3166_1': '...|  1995-12-15|187436818|  170.0|[{'iso_639_1': 'e...|Released|A Los Angeles Cri...|            Heat|False|         7.7|      1886|\n",
            "| 949.0| 505.0|   3.5|False|                 null|60000000|[{'id': 28, 'name...|                null|tt0113277|               en|            Heat|Obsessive master ...| 17.924927|/zMyfPUelumio3tiD...|[{'name': 'Regenc...|[{'iso_3166_1': '...|  1995-12-15|187436818|  170.0|[{'iso_639_1': 'e...|Released|A Los Angeles Cri...|            Heat|False|         7.7|      1886|\n",
            "| 949.0| 452.0|   4.5|False|                 null|60000000|[{'id': 28, 'name...|                null|tt0113277|               en|            Heat|Obsessive master ...| 17.924927|/zMyfPUelumio3tiD...|[{'name': 'Regenc...|[{'iso_3166_1': '...|  1995-12-15|187436818|  170.0|[{'iso_639_1': 'e...|Released|A Los Angeles Cri...|            Heat|False|         7.7|      1886|\n",
            "| 949.0| 387.0|   5.0|False|                 null|60000000|[{'id': 28, 'name...|                null|tt0113277|               en|            Heat|Obsessive master ...| 17.924927|/zMyfPUelumio3tiD...|[{'name': 'Regenc...|[{'iso_3166_1': '...|  1995-12-15|187436818|  170.0|[{'iso_639_1': 'e...|Released|A Los Angeles Cri...|            Heat|False|         7.7|      1886|\n",
            "| 949.0| 363.0|   4.0|False|                 null|60000000|[{'id': 28, 'name...|                null|tt0113277|               en|            Heat|Obsessive master ...| 17.924927|/zMyfPUelumio3tiD...|[{'name': 'Regenc...|[{'iso_3166_1': '...|  1995-12-15|187436818|  170.0|[{'iso_639_1': 'e...|Released|A Los Angeles Cri...|            Heat|False|         7.7|      1886|\n",
            "| 949.0| 311.0|   3.0|False|                 null|60000000|[{'id': 28, 'name...|                null|tt0113277|               en|            Heat|Obsessive master ...| 17.924927|/zMyfPUelumio3tiD...|[{'name': 'Regenc...|[{'iso_3166_1': '...|  1995-12-15|187436818|  170.0|[{'iso_639_1': 'e...|Released|A Los Angeles Cri...|            Heat|False|         7.7|      1886|\n",
            "| 949.0| 263.0|   3.0|False|                 null|60000000|[{'id': 28, 'name...|                null|tt0113277|               en|            Heat|Obsessive master ...| 17.924927|/zMyfPUelumio3tiD...|[{'name': 'Regenc...|[{'iso_3166_1': '...|  1995-12-15|187436818|  170.0|[{'iso_639_1': 'e...|Released|A Los Angeles Cri...|            Heat|False|         7.7|      1886|\n",
            "| 949.0| 242.0|   5.0|False|                 null|60000000|[{'id': 28, 'name...|                null|tt0113277|               en|            Heat|Obsessive master ...| 17.924927|/zMyfPUelumio3tiD...|[{'name': 'Regenc...|[{'iso_3166_1': '...|  1995-12-15|187436818|  170.0|[{'iso_639_1': 'e...|Released|A Los Angeles Cri...|            Heat|False|         7.7|      1886|\n",
            "| 949.0| 232.0|   2.0|False|                 null|60000000|[{'id': 28, 'name...|                null|tt0113277|               en|            Heat|Obsessive master ...| 17.924927|/zMyfPUelumio3tiD...|[{'name': 'Regenc...|[{'iso_3166_1': '...|  1995-12-15|187436818|  170.0|[{'iso_639_1': 'e...|Released|A Los Angeles Cri...|            Heat|False|         7.7|      1886|\n",
            "| 949.0| 102.0|   4.0|False|                 null|60000000|[{'id': 28, 'name...|                null|tt0113277|               en|            Heat|Obsessive master ...| 17.924927|/zMyfPUelumio3tiD...|[{'name': 'Regenc...|[{'iso_3166_1': '...|  1995-12-15|187436818|  170.0|[{'iso_639_1': 'e...|Released|A Los Angeles Cri...|            Heat|False|         7.7|      1886|\n",
            "| 949.0|  23.0|   3.5|False|                 null|60000000|[{'id': 28, 'name...|                null|tt0113277|               en|            Heat|Obsessive master ...| 17.924927|/zMyfPUelumio3tiD...|[{'name': 'Regenc...|[{'iso_3166_1': '...|  1995-12-15|187436818|  170.0|[{'iso_639_1': 'e...|Released|A Los Angeles Cri...|            Heat|False|         7.7|      1886|\n",
            "| 710.0| 390.0|   2.0|False| {'id': 645, 'name...|58000000|[{'id': 12, 'name...|http://www.mgm.co...|tt0113189|               en|       GoldenEye|James Bond must u...| 14.686036|/5c0ovjT41KnYIHYu...|[{'name': 'United...|[{'iso_3166_1': '...|  1995-11-16|352194034|  130.0|[{'iso_639_1': 'e...|Released|No limits. No fea...|       GoldenEye|False|         6.6|      1194|\n",
            "| 710.0| 358.0|   1.0|False| {'id': 645, 'name...|58000000|[{'id': 12, 'name...|http://www.mgm.co...|tt0113189|               en|       GoldenEye|James Bond must u...| 14.686036|/5c0ovjT41KnYIHYu...|[{'name': 'United...|[{'iso_3166_1': '...|  1995-11-16|352194034|  130.0|[{'iso_639_1': 'e...|Released|No limits. No fea...|       GoldenEye|False|         6.6|      1194|\n",
            "|1408.0| 665.0|   3.0|False|                 null|98000000|[{'id': 28, 'name...|                null|tt0112760|               en|Cutthroat Island|Morgan Adams and ...|  7.284477|/odM9973kIv9hcjfH...|[{'name': 'Le Stu...|[{'iso_3166_1': '...|  1995-12-22| 10017322|  119.0|[{'iso_639_1': 'e...|Released|The Course Has Be...|Cutthroat Island|False|         5.7|       137|\n",
            "|1408.0| 658.0|   5.0|False|                 null|98000000|[{'id': 28, 'name...|                null|tt0112760|               en|Cutthroat Island|Morgan Adams and ...|  7.284477|/odM9973kIv9hcjfH...|[{'name': 'Le Stu...|[{'iso_3166_1': '...|  1995-12-22| 10017322|  119.0|[{'iso_639_1': 'e...|Released|The Course Has Be...|Cutthroat Island|False|         5.7|       137|\n",
            "+------+------+------+-----+---------------------+--------+--------------------+--------------------+---------+-----------------+----------------+--------------------+----------+--------------------+--------------------+--------------------+------------+---------+-------+--------------------+--------+--------------------+----------------+-----+------------+----------+\n",
            "only showing top 20 rows\n",
            "\n"
          ]
        }
      ],
      "source": [
        "import numpy as np\n",
        "from pyspark.sql.functions import when\n",
        "\n",
        "movie_data = movie_data.withColumn(\"userId\",when(movie_data.userId==0,np.nan).otherwise(movie_data.userId))\n",
        "movie_data = movie_data.withColumn(\"id\",when(movie_data.id==0,np.nan).otherwise(movie_data.id))\n",
        "movie_data = movie_data.withColumn(\"rating\",when(movie_data.rating==0,np.nan).otherwise(movie_data.rating))\n",
        "movie_data = movie_data.withColumn(\"title\",when(movie_data.title==0,np.nan).otherwise(movie_data.title))\n",
        "from pyspark.sql.types import IntegerType\n",
        "movie_data = movie_data.withColumn(\"budget\", movie_data[\"budget\"].cast(IntegerType()))\n",
        "\n",
        "movie_data.show()"
      ]
    },
    {
      "cell_type": "markdown",
      "metadata": {
        "id": "lkSXlVDul6t5"
      },
      "source": [
        "Correlations between independent variables using data visualization.\n",
        "Selecting different numeric and string columns, and drawing 1 plot (e.g. bar chart, histogram, boxplot, etc.)\n",
        "for each to summarise it\n"
      ]
    },
    {
      "cell_type": "markdown",
      "metadata": {
        "id": "tjszcbzJl6t6"
      },
      "source": [
        " Recommendation engine"
      ]
    },
    {
      "cell_type": "markdown",
      "metadata": {
        "id": "BBdjflEml6t6"
      },
      "source": [
        "Build the recommendation model using ALS on the training data"
      ]
    },
    {
      "cell_type": "code",
      "execution_count": 38,
      "metadata": {
        "id": "CLqX9S9rl6t6"
      },
      "outputs": [],
      "source": [
        "(training,test)=movie_data.randomSplit([0.8, 0.2]) # split into training and testing sets"
      ]
    },
    {
      "cell_type": "markdown",
      "metadata": {
        "id": "7XJenO0Ll6t7"
      },
      "source": [
        "This subtask requires you to implement a recommender system on Collaborative filtering with Alternative Least Squares Algorithm."
      ]
    },
    {
      "cell_type": "code",
      "execution_count": 39,
      "metadata": {
        "id": "Ytt53Tfol6t7"
      },
      "outputs": [],
      "source": [
        "# Build the recommendation model using ALS on the training data\n",
        "#Fitting the Alternating Least Squares Model\n",
        "\n",
        "from pyspark.ml.evaluation import RegressionEvaluator\n",
        "from pyspark.ml.recommendation import ALS\n",
        "\n",
        "# Note we set cold start strategy to 'drop' to ensure we don't get NaN evaluation metrics\n",
        "als = ALS(maxIter=5,regParam=0.09,rank=25,userCol=\"userId\",itemCol=\"id\",ratingCol=\"rating\",coldStartStrategy=\"drop\",nonnegative=True)\n",
        "model = als.fit(training) # fit the ALS model to the training set"
      ]
    },
    {
      "cell_type": "markdown",
      "metadata": {
        "id": "F-DBI34il6t7"
      },
      "source": [
        "Generating Predictions & Model Evaluation:\n",
        "    Evaluating a model is a core part of building an effective machine learning model. In PySpark we will be using \n",
        "    RMSE(Root mean squared Error) as our evaluation metric.\n",
        "    The RMSE described our error in terms of the rating column."
      ]
    },
    {
      "cell_type": "code",
      "execution_count": 40,
      "metadata": {
        "colab": {
          "base_uri": "https://localhost:8080/"
        },
        "id": "dWADytpPl6t7",
        "outputId": "5242dd4d-c420-4c98-b082-7c8538505777"
      },
      "outputs": [
        {
          "output_type": "stream",
          "name": "stdout",
          "text": [
            "RMSE=0.919734204284945\n",
            "+---+------+------+---------------+---------------------+------+--------------------+--------------------+--------------------+--------------------+--------------------+----------+----------+-----------+--------------------+--------------------+------------+------------+-------+----------------+------+-------+-----+-----+------------+----------+----------+\n",
            "| id|userId|rating|          adult|belongs_to_collection|budget|              genres|            homepage|             imdb_id|   original_language|      original_title|  overview|popularity|poster_path|production_companies|production_countries|release_date|     revenue|runtime|spoken_languages|status|tagline|title|video|vote_average|vote_count|prediction|\n",
            "+---+------+------+---------------+---------------------+------+--------------------+--------------------+--------------------+--------------------+--------------------+----------+----------+-----------+--------------------+--------------------+------------+------------+-------+----------------+------+-------+-----+-----+------------+----------+----------+\n",
            "|1.0|   7.0|   3.0| But when Ahmed|  the perfect scap...|  null| the gravitas of ...| marking the star...|/hPObJrJhUw92DU5z...|[{'name': 'Thelma...|[{'iso_3166_1': '...|2016-02-24|         0|      107.0|[{'iso_639_1': 'f...|            Released|        null|A Decent Man|  False|             6.1|     7|   null| null| null|        null|      null| 3.9266598|\n",
            "|1.0|  19.0|   3.0| But when Ahmed|  the perfect scap...|  null| the gravitas of ...| marking the star...|/hPObJrJhUw92DU5z...|[{'name': 'Thelma...|[{'iso_3166_1': '...|2016-02-24|         0|      107.0|[{'iso_639_1': 'f...|            Released|        null|A Decent Man|  False|             6.1|     7|   null| null| null|        null|      null| 3.5114224|\n",
            "|1.0|  30.0|   4.0| But when Ahmed|  the perfect scap...|  null| the gravitas of ...| marking the star...|/hPObJrJhUw92DU5z...|[{'name': 'Thelma...|[{'iso_3166_1': '...|2016-02-24|         0|      107.0|[{'iso_639_1': 'f...|            Released|        null|A Decent Man|  False|             6.1|     7|   null| null| null|        null|      null|  3.930816|\n",
            "|1.0|  47.0|   5.0| But when Ahmed|  the perfect scap...|  null| the gravitas of ...| marking the star...|/hPObJrJhUw92DU5z...|[{'name': 'Thelma...|[{'iso_3166_1': '...|2016-02-24|         0|      107.0|[{'iso_639_1': 'f...|            Released|        null|A Decent Man|  False|             6.1|     7|   null| null| null|        null|      null| 3.6534624|\n",
            "|1.0|  63.0|   5.0| But when Ahmed|  the perfect scap...|  null| the gravitas of ...| marking the star...|/hPObJrJhUw92DU5z...|[{'name': 'Thelma...|[{'iso_3166_1': '...|2016-02-24|         0|      107.0|[{'iso_639_1': 'f...|            Released|        null|A Decent Man|  False|             6.1|     7|   null| null| null|        null|      null|  4.119953|\n",
            "|1.0|  91.0|   5.0| But when Ahmed|  the perfect scap...|  null| the gravitas of ...| marking the star...|/hPObJrJhUw92DU5z...|[{'name': 'Thelma...|[{'iso_3166_1': '...|2016-02-24|         0|      107.0|[{'iso_639_1': 'f...|            Released|        null|A Decent Man|  False|             6.1|     7|   null| null| null|        null|      null| 4.5358815|\n",
            "|1.0|  94.0|   4.0| But when Ahmed|  the perfect scap...|  null| the gravitas of ...| marking the star...|/hPObJrJhUw92DU5z...|[{'name': 'Thelma...|[{'iso_3166_1': '...|2016-02-24|         0|      107.0|[{'iso_639_1': 'f...|            Released|        null|A Decent Man|  False|             6.1|     7|   null| null| null|        null|      null| 3.2281814|\n",
            "|1.0| 121.0|   4.0| But when Ahmed|  the perfect scap...|  null| the gravitas of ...| marking the star...|/hPObJrJhUw92DU5z...|[{'name': 'Thelma...|[{'iso_3166_1': '...|2016-02-24|         0|      107.0|[{'iso_639_1': 'f...|            Released|        null|A Decent Man|  False|             6.1|     7|   null| null| null|        null|      null| 4.0840178|\n",
            "|1.0| 126.0|   5.0| But when Ahmed|  the perfect scap...|  null| the gravitas of ...| marking the star...|/hPObJrJhUw92DU5z...|[{'name': 'Thelma...|[{'iso_3166_1': '...|2016-02-24|         0|      107.0|[{'iso_639_1': 'f...|            Released|        null|A Decent Man|  False|             6.1|     7|   null| null| null|        null|      null| 4.1270623|\n",
            "|1.0| 130.0|   3.0| But when Ahmed|  the perfect scap...|  null| the gravitas of ...| marking the star...|/hPObJrJhUw92DU5z...|[{'name': 'Thelma...|[{'iso_3166_1': '...|2016-02-24|         0|      107.0|[{'iso_639_1': 'f...|            Released|        null|A Decent Man|  False|             6.1|     7|   null| null| null|        null|      null| 3.5920837|\n",
            "|1.0| 138.0|   2.0| But when Ahmed|  the perfect scap...|  null| the gravitas of ...| marking the star...|/hPObJrJhUw92DU5z...|[{'name': 'Thelma...|[{'iso_3166_1': '...|2016-02-24|         0|      107.0|[{'iso_639_1': 'f...|            Released|        null|A Decent Man|  False|             6.1|     7|   null| null| null|        null|      null| 3.3276942|\n",
            "|1.0| 146.0|   5.0| But when Ahmed|  the perfect scap...|  null| the gravitas of ...| marking the star...|/hPObJrJhUw92DU5z...|[{'name': 'Thelma...|[{'iso_3166_1': '...|2016-02-24|         0|      107.0|[{'iso_639_1': 'f...|            Released|        null|A Decent Man|  False|             6.1|     7|   null| null| null|        null|      null| 3.9841661|\n",
            "|1.0| 150.0|   3.0| But when Ahmed|  the perfect scap...|  null| the gravitas of ...| marking the star...|/hPObJrJhUw92DU5z...|[{'name': 'Thelma...|[{'iso_3166_1': '...|2016-02-24|         0|      107.0|[{'iso_639_1': 'f...|            Released|        null|A Decent Man|  False|             6.1|     7|   null| null| null|        null|      null|  3.268347|\n",
            "|1.0| 176.0|   2.0| But when Ahmed|  the perfect scap...|  null| the gravitas of ...| marking the star...|/hPObJrJhUw92DU5z...|[{'name': 'Thelma...|[{'iso_3166_1': '...|2016-02-24|         0|      107.0|[{'iso_639_1': 'f...|            Released|        null|A Decent Man|  False|             6.1|     7|   null| null| null|        null|      null| 3.0673387|\n",
            "|1.0| 177.0|   5.0| But when Ahmed|  the perfect scap...|  null| the gravitas of ...| marking the star...|/hPObJrJhUw92DU5z...|[{'name': 'Thelma...|[{'iso_3166_1': '...|2016-02-24|         0|      107.0|[{'iso_639_1': 'f...|            Released|        null|A Decent Man|  False|             6.1|     7|   null| null| null|        null|      null|  4.156179|\n",
            "|1.0| 184.0|   5.0| But when Ahmed|  the perfect scap...|  null| the gravitas of ...| marking the star...|/hPObJrJhUw92DU5z...|[{'name': 'Thelma...|[{'iso_3166_1': '...|2016-02-24|         0|      107.0|[{'iso_639_1': 'f...|            Released|        null|A Decent Man|  False|             6.1|     7|   null| null| null|        null|      null| 4.1170864|\n",
            "|1.0| 187.0|   4.0| But when Ahmed|  the perfect scap...|  null| the gravitas of ...| marking the star...|/hPObJrJhUw92DU5z...|[{'name': 'Thelma...|[{'iso_3166_1': '...|2016-02-24|         0|      107.0|[{'iso_639_1': 'f...|            Released|        null|A Decent Man|  False|             6.1|     7|   null| null| null|        null|      null| 3.9243608|\n",
            "|1.0| 200.0|   3.0| But when Ahmed|  the perfect scap...|  null| the gravitas of ...| marking the star...|/hPObJrJhUw92DU5z...|[{'name': 'Thelma...|[{'iso_3166_1': '...|2016-02-24|         0|      107.0|[{'iso_639_1': 'f...|            Released|        null|A Decent Man|  False|             6.1|     7|   null| null| null|        null|      null| 4.1832385|\n",
            "|1.0| 201.0|   5.0| But when Ahmed|  the perfect scap...|  null| the gravitas of ...| marking the star...|/hPObJrJhUw92DU5z...|[{'name': 'Thelma...|[{'iso_3166_1': '...|2016-02-24|         0|      107.0|[{'iso_639_1': 'f...|            Released|        null|A Decent Man|  False|             6.1|     7|   null| null| null|        null|      null|  4.071281|\n",
            "|1.0| 205.0|   4.5| But when Ahmed|  the perfect scap...|  null| the gravitas of ...| marking the star...|/hPObJrJhUw92DU5z...|[{'name': 'Thelma...|[{'iso_3166_1': '...|2016-02-24|         0|      107.0|[{'iso_639_1': 'f...|            Released|        null|A Decent Man|  False|             6.1|     7|   null| null| null|        null|      null| 3.3541408|\n",
            "+---+------+------+---------------+---------------------+------+--------------------+--------------------+--------------------+--------------------+--------------------+----------+----------+-----------+--------------------+--------------------+------------+------------+-------+----------------+------+-------+-----+-----+------------+----------+----------+\n",
            "only showing top 20 rows\n",
            "\n"
          ]
        }
      ],
      "source": [
        "evaluator=RegressionEvaluator(metricName=\"rmse\",labelCol=\"rating\",predictionCol=\"prediction\")\n",
        "predictions=model.transform(test)\n",
        "rmse=evaluator.evaluate(predictions)\n",
        "print(\"RMSE=\"+str(rmse))\n",
        "predictions.show()"
      ]
    },
    {
      "cell_type": "markdown",
      "metadata": {
        "id": "USLypdu8l6t8"
      },
      "source": [
        "Recommending Movies with ALS:\n",
        "    The approach here will be simple We will be taking a single userid example 29 as features and pass it to trained ALS Model.\n",
        "    The same way we did with the test data!\n"
      ]
    },
    {
      "cell_type": "code",
      "execution_count": 41,
      "metadata": {
        "colab": {
          "base_uri": "https://localhost:8080/"
        },
        "id": "Hb4oL8GNl6t8",
        "outputId": "31e8674b-4b95-48f4-f719-d05462dafa33"
      },
      "outputs": [
        {
          "output_type": "stream",
          "name": "stdout",
          "text": [
            "+------+------+------------------+-------------------------------------------------------------+\n",
            "|id    |userId|title             |genres                                                       |\n",
            "+------+------+------------------+-------------------------------------------------------------+\n",
            "|1717.0|29.0  |All the King's Men|[{'id': 18, 'name': 'Drama'}, {'id': 53, 'name': 'Thriller'}]|\n",
            "+------+------+------------------+-------------------------------------------------------------+\n",
            "\n"
          ]
        }
      ],
      "source": [
        "single_user = test.filter(test['userId']==29).select(['id','userId','title','genres'])\n",
        "# User had 10 ratings in the test data set \n",
        "# Realistically this should be some sort of hold out set!\n",
        "single_user.show(truncate = False)"
      ]
    },
    {
      "cell_type": "code",
      "execution_count": 42,
      "metadata": {
        "colab": {
          "base_uri": "https://localhost:8080/"
        },
        "id": "ibdU0jO7l6t8",
        "outputId": "654ef97e-de6a-488b-d382-e2b7443c1566"
      },
      "outputs": [
        {
          "output_type": "stream",
          "name": "stdout",
          "text": [
            "+------+------+------------------+-------------------------------------------------------------+----------+\n",
            "|id    |userId|title             |genres                                                       |prediction|\n",
            "+------+------+------------------+-------------------------------------------------------------+----------+\n",
            "|1717.0|29.0  |All the King's Men|[{'id': 18, 'name': 'Drama'}, {'id': 53, 'name': 'Thriller'}]|2.5289507 |\n",
            "+------+------+------------------+-------------------------------------------------------------+----------+\n",
            "\n"
          ]
        }
      ],
      "source": [
        "#Now we will use model.transform() function in order to generate recommended movies along with their predicted features.\n",
        "\n",
        "recomendations = model.transform(single_user)\n",
        "recomendations.orderBy('prediction',ascending=False).show(truncate = False )"
      ]
    },
    {
      "cell_type": "code",
      "source": [],
      "metadata": {
        "id": "EJ2Xg2f2qZoS"
      },
      "execution_count": 42,
      "outputs": []
    }
  ],
  "metadata": {
    "kernelspec": {
      "display_name": "Python 3",
      "language": "python",
      "name": "python3"
    },
    "language_info": {
      "codemirror_mode": {
        "name": "ipython",
        "version": 3
      },
      "file_extension": ".py",
      "mimetype": "text/x-python",
      "name": "python",
      "nbconvert_exporter": "python",
      "pygments_lexer": "ipython3",
      "version": "3.7.7"
    },
    "colab": {
      "provenance": []
    }
  },
  "nbformat": 4,
  "nbformat_minor": 0
}